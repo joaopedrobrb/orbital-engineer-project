{
 "cells": [
  {
   "cell_type": "code",
   "execution_count": 1,
   "metadata": {},
   "outputs": [],
   "source": [
    "from pyspark.sql import SparkSession\n",
    "from pyspark.sql.types import *\n",
    "from pyspark.sql.functions import * \n",
    "import os\n",
    "import glob\n",
    "import pandas as pd\n",
    "\n",
    "spark = SparkSession.builder.appName(\"spark-ingestion-orbital\").config(\"spark.sql.broadcastTimeout\", \"100000\").config('spark.sql.autoBroadcastJoinThreshold', '-1').config(\"spark.executor.memory\", \"80g\").config(\"spark.executor.cores\", \"2\").enableHiveSupport().getOrCreate()\n",
    "# validate\n",
    "pd.set_option('display.max_columns', None)\n",
    "pd.set_option('display.max_rows', None)"
   ]
  },
  {
   "cell_type": "markdown",
   "metadata": {},
   "source": [
    "## <i>Tables PIB/Municipos<i>"
   ]
  },
  {
   "cell_type": "code",
   "execution_count": 2,
   "metadata": {},
   "outputs": [],
   "source": [
    "# pib address\n",
    "pib_files = glob.glob('./files/pib/*.xlsx')"
   ]
  },
  {
   "cell_type": "code",
   "execution_count": 3,
   "metadata": {},
   "outputs": [],
   "source": [
    "# Posição ocupada pelos 100 maiores municípios, em relação ao Produto Interno Bruto a preços correntes e participações percentual e acumulada, segundo os municípios e as respectivas Unidades da Federação - 2019\n",
    "top_100_pib = pd.concat((pd.read_excel(f,header=4,names=['municipios_uf', 'posicao_municipio', 'pib', 'partipacao_percentual', 'percentual_acumulado'], sheet_name=0) for f in pib_files))\n",
    "top_100_pib = top_100_pib.dropna()\n",
    "top_100_pib = top_100_pib[top_100_pib[\"municipios_uf\"].str.contains('\\n') == False]\n",
    "top_100_pib.to_csv(f\"./landing_zone/pib/top_100_pib.csv\",index=False)"
   ]
  },
  {
   "cell_type": "code",
   "execution_count": 4,
   "metadata": {},
   "outputs": [],
   "source": [
    "# Posição ocupada pelos 30 maiores municípios, em relação ao Produto Interno Bruto a preços correntes e participações percentual e acumulada dos municípios nas Grandes Regiões, segundo os municípios e as respectivas Unidades da Federação - 2019\n",
    "top_30_region = pd.concat((pd.read_excel(f,header=1,names=['municipios_uf', 'posicao_municipio', 'pib', 'partipacao_percentual', 'percentual_acumulado'], sheet_name=1) for f in pib_files))\n",
    "top_30_region = top_30_region.dropna()\n",
    "top_30_region = top_30_region[top_30_region[\"municipios_uf\"].str.contains('\\n') == False]\n",
    "top_30_region = top_30_region[top_30_region[\"posicao_municipio\"].str.contains('º') == True]\n",
    "top_30_region.to_csv(f\"./landing_zone/pib/top_30_region_pib.csv\",index=False)"
   ]
  },
  {
   "cell_type": "code",
   "execution_count": 5,
   "metadata": {},
   "outputs": [],
   "source": [
    "# Posição ocupada pelos 30 menores municípios, em relação ao Produto Interno Bruto a preços correntes e participações percentual e acumulada dos municípios nas Grandes Regiões, segundo os municípios e as respectivas Unidades da Federação - 2019\n",
    "bottom_30_region = pd.concat((pd.read_excel(f,header=1,names=['municipios_uf', 'posicao_municipio', 'pib', 'partipacao_percentual', 'percentual_acumulado'], sheet_name=2) for f in pib_files))\n",
    "bottom_30_region = bottom_30_region.dropna()\n",
    "bottom_30_region = bottom_30_region[bottom_30_region[\"municipios_uf\"].str.contains('\\n') == False]\n",
    "bottom_30_region = bottom_30_region[bottom_30_region[\"posicao_municipio\"].str.contains('º') == True]\n",
    "bottom_30_region.to_csv(f\"./landing_zone/pib/bottom_30_region_pib.csv\",index=False)"
   ]
  },
  {
   "cell_type": "code",
   "execution_count": 6,
   "metadata": {},
   "outputs": [],
   "source": [
    "# Posição ocupada pelos 100 maiores municípios, em relação ao Produto Interno Bruto per capita e população, segundo os municípios e as respectivas Unidades da Federação - 2019\n",
    "top_100_pibpercap = pd.concat((pd.read_excel(f,header=1,names=['municipios_uf', 'posicao_municipio', 'pib_percapita', 'populacao'], sheet_name=3) for f in pib_files))\n",
    "top_100_pibpercap = top_100_pibpercap.dropna()\n",
    "top_100_pibpercap = top_100_pibpercap[top_100_pibpercap[\"municipios_uf\"].str.contains('\\n') == False]\n",
    "top_100_pibpercap = top_100_pibpercap[top_100_pibpercap[\"posicao_municipio\"].str.contains('º') == True]\n",
    "top_100_pibpercap.to_csv(f\"./landing_zone/pib/top_100_pibpercap.csv\",index=False)\n"
   ]
  },
  {
   "cell_type": "code",
   "execution_count": 7,
   "metadata": {},
   "outputs": [],
   "source": [
    "# Posição ocupada pelos 100 maiores municípios, em relação ao valor adicionado bruto da Agropecuária e participações percentual e acumulada, segundo os municípios e as respectivas Unidades da Federação - 2019\n",
    "top_100_agro = pd.concat((pd.read_excel(f,header=1,names=['municipios_uf', 'posicao_municipio', 'val_add_agropecuaria', 'partipacao_percentual', 'percentual_acumulado'], sheet_name=4) for f in pib_files))\n",
    "top_100_agro = top_100_agro.dropna()\n",
    "top_100_agro = top_100_agro[top_100_agro[\"municipios_uf\"].str.contains('\\n') == False]\n",
    "top_100_agro = top_100_agro[top_100_agro[\"posicao_municipio\"].str.contains('º') == True]\n",
    "top_100_agro.to_csv(f\"./landing_zone/pib/top_100_agro.csv\",index=False)\n"
   ]
  },
  {
   "cell_type": "code",
   "execution_count": 8,
   "metadata": {},
   "outputs": [],
   "source": [
    "# Posição ocupada pelos 100 maiores municípios, em relação ao valor adicionado bruto da Industria e participações percentual e acumulada, segundo os municípios e as respectivas Unidades da Federação - 2019\n",
    "top_100_indust = pd.concat((pd.read_excel(f,header=1,names=['municipios_uf', 'posicao_municipio', 'val_add_industria', 'partipacao_percentual', 'percentual_acumulado'], sheet_name=5) for f in pib_files))\n",
    "top_100_indust = top_100_indust.dropna()\n",
    "top_100_indust = top_100_indust[top_100_indust[\"municipios_uf\"].str.contains('\\n') == False]\n",
    "top_100_indust = top_100_indust[top_100_indust[\"posicao_municipio\"].str.contains('º') == True]\n",
    "top_100_indust.to_csv(f\"./landing_zone/pib/top_100_indust.csv\",index=False)"
   ]
  },
  {
   "cell_type": "code",
   "execution_count": 9,
   "metadata": {},
   "outputs": [],
   "source": [
    "# Posição ocupada pelos 100 maiores municípios, em relação ao valor adicionado bruto dos Serviços e participações percentual e acumulada, segundo os municípios e as respectivas Unidades da Federação - 2019\n",
    "top_100_serv = pd.concat((pd.read_excel(f,header=1,names=['municipios_uf', 'posicao_municipio', 'val_add_servicos', 'partipacao_percentual', 'percentual_acumulado'], sheet_name=6) for f in pib_files))\n",
    "top_100_serv = top_100_serv.dropna()\n",
    "top_100_serv = top_100_serv[top_100_serv[\"municipios_uf\"].str.contains('\\n') == False]\n",
    "top_100_serv = top_100_serv[top_100_serv[\"posicao_municipio\"].str.contains('º') == True]\n",
    "top_100_serv.to_csv(f\"./landing_zone/pib/top_100_serv.csv\",index=False)"
   ]
  },
  {
   "cell_type": "code",
   "execution_count": 10,
   "metadata": {},
   "outputs": [],
   "source": [
    "# Posição ocupada pelos 100 maiores municípios, em relação ao valor adicionado bruto da Administração, defesa, educação e saúde públicas e seguridade social e participações percentual e acumulada, segundo os municípios e as respectivas Unidades da Federação - 2019\n",
    "top_100_admpublica = pd.concat((pd.read_excel(f,header=1,names=['municipios_uf', 'posicao_municipio', 'val_add_adm_publica', 'partipacao_percentual', 'percentual_acumulado'], sheet_name=7) for f in pib_files))\n",
    "top_100_admpublica = top_100_admpublica.dropna()\n",
    "top_100_admpublica = top_100_admpublica[top_100_admpublica[\"municipios_uf\"].str.contains('\\n') == False]\n",
    "top_100_admpublica = top_100_admpublica[top_100_admpublica[\"posicao_municipio\"].str.contains('º') == True]\n",
    "top_100_admpublica.to_csv(f\"./landing_zone/pib/top_100_admpublica.csv\",index=False)"
   ]
  },
  {
   "cell_type": "code",
   "execution_count": 11,
   "metadata": {},
   "outputs": [],
   "source": [
    "# Participação percentual do PIB, número de municípios e população dos cinco municípios com maiores PIBs em relação à Unidade da Federação, segundo as Unidades da Federação - 2002-2019\n",
    "overview_pib_historico = pd.concat((pd.read_excel(f,header=5, sheet_name=8) for f in pib_files))\n",
    "overview_pib_historico = overview_pib_historico.rename({'Unnamed: 0':'unidade_federativa', '2019\\n(2)':'2019', 'Unnamed: 19': 'participacao_num_mun_uf', 'Unnamed: 20': 'partipacao_total_pop_uf' }, axis=1)\n",
    "overview_pib_historico = overview_pib_historico.dropna()\n",
    "overview_pib_historico = pd.melt(overview_pib_historico, id_vars=['unidade_federativa', 'participacao_num_mun_uf', 'partipacao_total_pop_uf'],var_name='year',value_name='participacao_percentual_pib_uf')\n",
    "overview_pib_historico.to_csv(f\"./landing_zone/pib/overview_pib_historico.csv\",index=False)"
   ]
  },
  {
   "cell_type": "markdown",
   "metadata": {},
   "source": [
    "## <i>Companhias<i>"
   ]
  },
  {
   "cell_type": "code",
   "execution_count": 12,
   "metadata": {},
   "outputs": [],
   "source": [
    "# pib address\n",
    "companies_files = glob.glob('./files/companies_register/companies/*.xlsx')\n",
    "first_sequence = companies_files[:6]"
   ]
  },
  {
   "cell_type": "code",
   "execution_count": 13,
   "metadata": {},
   "outputs": [],
   "source": [
    "\n",
    "# tabelas com informação de salário médio por gênero, classificação por população e atividade (numero 1 e subdivisões)\n",
    "table_names = ['N_2018_sm_cla','N_2018_sm_atv','N_2019_sm_cla','N_2019_sm_atv','NE_2018_sm_cla','NE_2018_sm_atv','NE_2019_sm_cla','NE_2019_sm_atv','SE_2018_sm_cla','SE_2018_sm_atv','SE_2019_sm_cla','SE_2019_sm_atv','S_2018_sm_cla','S_2018_sm_atv','S_2019_sm_cla','S_2019_sm_atv','CO_2018_sm_cla','CO_2018_sm_atv','CO_2019_sm_cla','CO_2019_sm_atv','BR_2018_sm_cla','BR_2018_sm_atv','BR_2019_sm_cla','BR_2019_sm_atv']\n",
    "c = 0\n",
    "t = 0\n",
    "for i in first_sequence:\n",
    "    for i in range(0,2):\n",
    "        # primeira tabela\n",
    "        table = pd.read_excel(first_sequence[t],header=6,sheet_name=i,names=['faixa_pessoal_ocupada', 'numero_empresas_organizacoes', 'pessoal_ocupado_total','total_assalariado', 'total_assalariado_masc', 'total_assalariado_fem'\\\n",
    "            ,'total_assalariado_superior','total_assalariado_nao_superior','pessoal_assalariado_medio_total', 'pessoal_assalariado_medio_masc', 'pessoal_assalariado_medio_fem'\\\n",
    "            ,'pessoal_assalariado_medio_nivel_sup','pessoal_assalariado_medio_sem_nivel_sup', '1000_salario_e_remun_total', '1000_salario_e_remun_total_masc', '1000_salario_e_remun_total_fem', '1000_salario_e_remun_total_superior', '1000_salario_e_remun_total_nao_superior'\\\n",
    "            ,'salario_medio_mensal_123_total', 'salario_medio_mensal_123_total_masc', 'salario_medio_mensal_123_total_fem', 'salario_medio_mensal_123_superior','salario_medio_mensal_123_total_nao_superior'\\\n",
    "            ,'salario_mensal_total_3', 'salario_mensal_total_3_masc', 'salario_mensal_total_3_fem', 'salario_mensal_total_3_superior', 'salario_mensal_total_3_nao_superior'])\n",
    "        table = table.head(9)\n",
    "        table = table.replace('X','')\n",
    "        table = table.replace('\"','')\n",
    "        table = table.dropna()\n",
    "        table.to_csv(f\"./landing_zone/cadastro_empresas/{table_names[c]}.csv\",index=False,encoding='UTF-8')\n",
    "        c = c + 1\n",
    "        # segunda tabela\n",
    "        table = pd.read_excel(first_sequence[t],header=6,sheet_name=i,names=['faixa_pessoal_ocupada', 'numero_empresas_organizacoes', 'pessoal_ocupado_total','total_assalariado', 'total_assalariado_masc', 'total_assalariado_fem'\\\n",
    "            ,'total_assalariado_superior','total_assalariado_nao_superior','pessoal_assalariado_medio_total', 'pessoal_assalariado_medio_masc', 'pessoal_assalariado_medio_fem'\\\n",
    "            ,'pessoal_assalariado_medio_nivel_sup','pessoal_assalariado_medio_sem_nivel_sup', '1000_salario_e_remun_total', '1000_salario_e_remun_total_masc', '1000_salario_e_remun_total_fem', '1000_salario_e_remun_total_superior', '1000_salario_e_remun_total_nao_superior'\\\n",
    "            ,'salario_medio_mensal_123_total', 'salario_medio_mensal_123_total_masc', 'salario_medio_mensal_123_total_fem', 'salario_medio_mensal_123_superior','salario_medio_mensal_123_total_nao_superior'\\\n",
    "            ,'salario_mensal_total_3', 'salario_mensal_total_3_masc', 'salario_mensal_total_3_fem', 'salario_mensal_total_3_superior', 'salario_mensal_total_3_nao_superior'])\n",
    "        table = table.drop(axis=0, index=[0,1,2,3,4,5,6,7,8,9])\n",
    "        table = table.replace('X','')\n",
    "        table = table.dropna()\n",
    "        table.to_csv(f\"./landing_zone/cadastro_empresas/{table_names[c]}.csv\",index=False,encoding='UTF-8')\n",
    "        c = c + 1\n",
    "    t = t + 1"
   ]
  },
  {
   "cell_type": "code",
   "execution_count": 14,
   "metadata": {},
   "outputs": [],
   "source": [
    "second_files = companies_files[6:][:6]"
   ]
  },
  {
   "cell_type": "code",
   "execution_count": 15,
   "metadata": {},
   "outputs": [],
   "source": [
    "# tabelas número 2 e subdivisões\n",
    "table_names = ['N_2019_cnae_total','NE_2019_cnae_total','SE_2019_cnae_total','S_2019_cnae_total','CO_2019_cnae_total','BR_2019_cnae_total']\n",
    "c = 0\n",
    "for i in second_files:\n",
    "    table = pd.read_excel(second_files[c],header=4,sheet_name=0,names=['codigo_cnae','atividade','numero_empresas','pessoal_ocup_total','pessoal_ocup_assal_total','pessoal_ocup_assal_masc','pessoal_ocup_assal_fem','pessoal_ocup_assal_sup','pessoal_ocup_assal_non_sup'\\\n",
    "        ,'pessoal_assalariado_medio_total','pessoal_assalariado_medio_masc','pessoal_assalariado_medio_fem','pessoal_assalariado_medio_sup','pessoal_assalariado_non_sup'\\\n",
    "        ,'salario_outras_rem_total','salario_outras_rem_masc','salario_outras_rem_fem','salario_outras_rem_sup','salario_outras_rem_non_sup','salario_min_mensal_total','salario_min_mensal_masc','salario_min_mensal_fem','salario_min_mensal_sup','salario_min_mensal_non_sup'\\\n",
    "            ,'salario_medio_mensal_total','salario_medio_mensal_masc','salario_medio_mensal_fem','salario_medio_mensal_sup','salario_medio_mensal_non_sup'])\n",
    "    table = table.replace('X','')\n",
    "    table = table.replace('-','')\n",
    "    table = table.dropna()\n",
    "    table.to_csv(f\"./landing_zone/cadastro_empresas/{table_names[c]}.csv\",index=False,encoding='UTF-8')\n",
    "    c += 1"
   ]
  },
  {
   "cell_type": "code",
   "execution_count": 16,
   "metadata": {},
   "outputs": [],
   "source": [
    "third_files = companies_files[12:][:5]"
   ]
  },
  {
   "cell_type": "code",
   "execution_count": 17,
   "metadata": {},
   "outputs": [],
   "source": [
    "# tabela 3\n",
    "\n",
    "table_names = ['BR_2019_cnae_faixas','BR_2019_anual_faixas','BR_2019_anual_atividades','BR_2019_cnae_empresas_pessoal','BR_2019_conc_ec_ics','BR_2019_cnae_ics']\n",
    "\n",
    "table = pd.read_excel(third_files[0],header=13,sheet_name=0,names=['codigo_cnae','atividade','numero_empresas','pessoal_ocup_total','pessoal_ocup_assal_total','pessoal_ocup_assal_masc','pessoal_ocup_assal_fem','pessoal_ocup_assal_sup','pessoal_ocup_assal_non_sup'\\\n",
    "    ,'pessoal_assalariado_medio_total','pessoal_assalariado_medio_masc','pessoal_assalariado_medio_fem','pessoal_assalariado_medio_sup','pessoal_assalariado_non_sup'\\\n",
    "    ,'salario_outras_rem_total','salario_outras_rem_masc','salario_outras_rem_fem','salario_outras_rem_sup','salario_outras_rem_non_sup','salario_min_mensal_total','salario_min_mensal_masc','salario_min_mensal_fem','salario_min_mensal_sup','salario_min_mensal_non_sup'\\\n",
    "        ,'salario_medio_mensal_total','salario_medio_mensal_masc','salario_medio_mensal_fem','salario_medio_mensal_sup','salario_medio_mensal_non_sup'])\n",
    "table = table.replace('X','')\n",
    "table = table.replace('-','')\n",
    "table = table.dropna()\n",
    "table = table[table[\"atividade\"].str.contains('Total') == False]\n",
    "table.to_csv(f\"./landing_zone/cadastro_empresas/{table_names[0]}.csv\",index=False,encoding='UTF-8')"
   ]
  },
  {
   "cell_type": "code",
   "execution_count": 18,
   "metadata": {},
   "outputs": [],
   "source": [
    "# tabela 4 - parte 1\n",
    "table = pd.read_excel(third_files[1],header=8,sheet_name=0,names=['faixas','total_empresas','total_empresas_ate_1966','total_empresas_ate_1970','total_empresas_ate_1980','total_empresas_ate_1990','total_empresas_ate_1995','total_empresas_ate_2000'\\\n",
    "    ,'total_empresas_ate_2005','total_empresas_ate_2010','total_empresas_2011','total_empresas_2012','total_empresas_2013'\\\n",
    "    ,'total_empresas_2014','total_empresas_2015','total_empresas_2016','total_empresas_2017','total_empresas_2018','total_empresas_2019'])\n",
    "table = table.head(8)\n",
    "table.to_csv(f\"./landing_zone/cadastro_empresas/{table_names[1]}.csv\",index=False,encoding='UTF-8')\n",
    "\n",
    "# tabela 4 - parte 2\n",
    "table = pd.read_excel(third_files[1],header=8,sheet_name=0,names=['faixas','total_empresas','total_empresas_ate_1966','total_empresas_ate_1970','total_empresas_ate_1980','total_empresas_ate_1990','total_empresas_ate_1995','total_empresas_ate_2000'\\\n",
    "    ,'total_empresas_ate_2005','total_empresas_ate_2010','total_empresas_2011','total_empresas_2012','total_empresas_2013'\\\n",
    "    ,'total_empresas_2014','total_empresas_2015','total_empresas_2016','total_empresas_2017','total_empresas_2018','total_empresas_2019'])\n",
    "table = table.drop(axis=0,index=[0,1,2,3,4,5,6,7,8,9])\n",
    "table = table.dropna()\n",
    "table.to_csv(f\"./landing_zone/cadastro_empresas/{table_names[2]}.csv\",index=False,encoding='UTF-8')"
   ]
  },
  {
   "cell_type": "code",
   "execution_count": 19,
   "metadata": {},
   "outputs": [],
   "source": [
    "# tabela 5\n",
    "table = pd.read_excel(third_files[2],header=5,sheet_name=0,names=['codigo_cnae','atividade','numero_empresas','pessoal_ocup_total','pessoal_ocup_part_rel','pessoal_ocup_part_acc','pessoal_ocup_assalariado','salario_medio_mensal_sal_min'])\n",
    "table = table.replace('X','')\n",
    "table = table.replace('-','')\n",
    "table = table.dropna()\n",
    "table.to_csv(f\"./landing_zone/cadastro_empresas/{table_names[3]}.csv\",index=False,encoding='UTF-8')"
   ]
  },
  {
   "cell_type": "code",
   "execution_count": 20,
   "metadata": {},
   "outputs": [],
   "source": [
    "# tabela 6\n",
    "table = pd.read_excel(third_files[3],header=5,sheet_name=0,names=['codigo_cnae','atividade','numero_empresas','pessoal_ocup_total','quatro_maiores_empresas_percent','oito_maiores_empresas_percent','doze_maiores_empresas_percent'])\n",
    "table = table.replace('X','')\n",
    "table = table.replace('-','')\n",
    "table = table.dropna()\n",
    "table\n",
    "table.to_csv(f\"./landing_zone/cadastro_empresas/{table_names[4]}.csv\",index=False,encoding='UTF-8')\n"
   ]
  },
  {
   "cell_type": "code",
   "execution_count": 21,
   "metadata": {},
   "outputs": [],
   "source": [
    "# tabela 7\n",
    "table = pd.read_excel(third_files[4],header=5,sheet_name=0,names=['codigo_cnae','atividade','tipo_empresa','total_empresas','pessoal_ocupado_total','numero_empresas_percent_total','pessoal_ocupado_percent_total','numero_empresas_mais_de_um_local_pct','pessoal_ocupado_mais_de_um_local_pct'])\n",
    "table = table.replace('X','')\n",
    "table = table.replace('-','')\n",
    "table = table.dropna()\n",
    "table = table[table[\"tipo_empresa\"].str.contains('Total') == False]\n",
    "table.to_csv(f\"./landing_zone/cadastro_empresas/{table_names[5]}.csv\",index=False,encoding='UTF-8')\n"
   ]
  },
  {
   "cell_type": "code",
   "execution_count": 22,
   "metadata": {},
   "outputs": [],
   "source": [
    "# tabelas 8\n",
    "fourthy_files = companies_files[17:][:6]"
   ]
  },
  {
   "cell_type": "code",
   "execution_count": 23,
   "metadata": {},
   "outputs": [],
   "source": [
    "# tabelas 8\n",
    "table_names = ['N_2019_juri_total','NE_2019_juri_total','SE_2019_juri_total','S_2019_juri_total','CO_2019_juri_total','BR_2019_juri_total']\n",
    "c = 0\n",
    "for i in fourthy_files:\n",
    "    table = pd.read_excel(fourthy_files[c],header=5,sheet_name=0,names=['codigo_cnae','atividade','natureza_juridica','total_empresas','pessoal_ocupado_total','pessoal_ocupado_assalariado','salario_outras_rem'])\n",
    "    table = table.replace('X','')\n",
    "    table = table.replace('-','')\n",
    "    table = table.dropna()\n",
    "    table.to_csv(f\"./landing_zone/cadastro_empresas/{table_names[c]}.csv\",index=False,encoding='UTF-8')\n",
    "    c = c + 1\n"
   ]
  },
  {
   "cell_type": "code",
   "execution_count": 24,
   "metadata": {},
   "outputs": [
    {
     "data": {
      "text/plain": [
       "['./files/companies_register/local_unities\\\\Tabela 9.1.xlsx',\n",
       " './files/companies_register/local_unities\\\\Tabela 9.2.xlsx',\n",
       " './files/companies_register/local_unities\\\\Tabela 9.3.xlsx',\n",
       " './files/companies_register/local_unities\\\\Tabela 9.4.xlsx',\n",
       " './files/companies_register/local_unities\\\\Tabela 9.5.xlsx',\n",
       " './files/companies_register/local_unities\\\\Tabela 9.6.xlsx',\n",
       " './files/companies_register/local_unities\\\\Tabela 9.xlsx']"
      ]
     },
     "execution_count": 24,
     "metadata": {},
     "output_type": "execute_result"
    }
   ],
   "source": [
    "companies_files = glob.glob('./files/companies_register/local_unities/*.xlsx')\n",
    "\n",
    "tabelas_nove = companies_files[9:]\n",
    "tabelas_nove"
   ]
  },
  {
   "cell_type": "code",
   "execution_count": 25,
   "metadata": {},
   "outputs": [
    {
     "name": "stdout",
     "output_type": "stream",
     "text": [
      "0\n",
      "0\n",
      "1\n",
      "1\n",
      "2\n",
      "2\n",
      "3\n",
      "3\n",
      "4\n",
      "4\n",
      "5\n",
      "5\n",
      "6\n",
      "6\n"
     ]
    }
   ],
   "source": [
    "# tabelas 9\n",
    "companies_files = glob.glob('./files/companies_register/local_unities/*.xlsx')\n",
    "\n",
    "tabelas_nove = companies_files[9:]\n",
    "\n",
    "table_names = ['N_unid_local_2018_cla','N_unid_local_2018_atv','N_unid_local_2019_cla','N_unid_local_2019_atv','NE_unid_local_2018_cla','NE_unid_local_2018_atv','NE_unid_locl_2019_cla','NE_unid_local_2019_atv','SE_unid_local_2018_cla','SE_unid_local_2019_atv','SE_unid_local_2019_cla'\\\n",
    ",'SE_unid_local_2018_atv','S_unid_local_2018_cla','S_unid_local_2018_atv','S_unid_local_2019_cla','S_unid_local_2019_atv','CO_unid_local_2018_cla','CO_unid_local_2018_atv','CO_unid_local_2019_cla','CO_unid_local_2019_atv','BR_cnae_total_2018_cla','BR_cnae_total_2018_atv','BR_cnae_total_2019_cla','BR_cnae_total_2019_atv','BR_unid_local_2018_cla','BR_unid_local_2018_atv','BR_unid_local_2019_cla','BR_unid_local_2019_atv']\n",
    "\n",
    "c = 0\n",
    "t = 0\n",
    "\n",
    "for i in tabelas_nove:\n",
    "    for i in range(0,2):\n",
    "        #print(i)\n",
    "        print(t)\n",
    "        table = pd.read_excel(tabelas_nove[t],header=5,sheet_name=i,names=['faixas','unidades_locais','pessoal_ocup_total','pessoal_ocup_assal','pessoal_assalariado_medio','salario_outras_rem','salario_medio_mensal_min','salario_medio_mensal'])\n",
    "        table = table.replace('X','')\n",
    "        table = table.replace('-','')\n",
    "        table = table.head(12)\n",
    "        table = table.dropna()\n",
    "        table.to_csv(f\"./landing_zone/unidades_locais/{table_names[c]}.csv\",index=False,encoding='UTF-8')\n",
    "        c = c + 1\n",
    "        # segunda parte\n",
    "        table = pd.read_excel(tabelas_nove[t],header=18,sheet_name=0,names=['faixas','unidades_locais','pessoal_ocup_total','pessoal_ocup_assal','pessoal_assalariado_medio','salario_outras_rem','salario_medio_mensal_min','salario_medio_mensal'])\n",
    "        table = table.replace('X','')\n",
    "        table = table.replace('-','')\n",
    "        table = table.dropna()\n",
    "        table.to_csv(f\"./landing_zone/unidades_locais/{table_names[c]}.csv\",index=False,encoding='UTF-8')\n",
    "        c = c + 1\n",
    "    t = t + 1\n"
   ]
  },
  {
   "cell_type": "code",
   "execution_count": 26,
   "metadata": {},
   "outputs": [],
   "source": [
    "tabelas_dez = companies_files[0:2]\n",
    "tabelas_dez\n",
    "\n",
    "# tabela 10.1\n",
    "table = pd.read_excel(tabelas_dez[0],header=6,sheet_name=0,names=['uf','cnae','atividades','unidades','pessoal_ocp_total','pessoal_ocp_assal','pessoal_assal_medio','salarios_outras_rem','salario_medio_mensal_min','salario_medio_mensal'])\n",
    "table = table.replace('X','')\n",
    "table = table.dropna()\n",
    "table.to_csv(f\"./landing_zone/unidades_locais/UF_GR_cnae_total_2019.csv\",index=False,encoding='UTF-8')\n",
    "\n",
    "# tabela 10\n",
    "table = pd.read_excel(tabelas_dez[1],header=6,sheet_name=0,names=['uf','atividades','unidades','pessoal_ocp_total','pessoal_ocp_assal','pessoal_assal_medio','salarios_outras_rem','salario_medio_mensal_min','salario_medio_mensal'])\n",
    "table = table.replace('X','')\n",
    "table = table.dropna()\n",
    "table.to_csv(f\"./landing_zone/unidades_locais/UF_GR_total_2019.csv\",index=False,encoding='UTF-8')"
   ]
  },
  {
   "cell_type": "code",
   "execution_count": 27,
   "metadata": {},
   "outputs": [],
   "source": [
    "tabelas_onze = companies_files[2:5]"
   ]
  },
  {
   "cell_type": "code",
   "execution_count": 28,
   "metadata": {},
   "outputs": [],
   "source": [
    "# tabela 11\n",
    "table = pd.read_excel(tabelas_onze[0],header=4,sheet_name=0,names=['uf','atividades','faixa','unidades_locais','pessoal_ocp_total','pessoal_ocp_assal','pessoal_assal_medio','salarios_outras_rem','salario_medio_mensal_min','salario_medio_mensal'])\n",
    "table = table.replace('X','')\n",
    "table = table.dropna()\n",
    "table = table[table[\"atividades\"].str.contains('Total') == False]\n",
    "table.to_csv(f\"./landing_zone/unidades_locais/BR_UF_unid_local_faixas_2019.csv\",index=False,encoding='UTF-8')"
   ]
  },
  {
   "cell_type": "code",
   "execution_count": 29,
   "metadata": {},
   "outputs": [],
   "source": [
    "table = pd.read_excel(tabelas_onze[1],header=4,sheet_name=0,names=['cnae','atividades','faixa','unidades_locais','pessoal_ocp_total','pessoal_ocp_assal','pessoal_assal_medio','salarios_outras_rem','salario_medio_mensal_min','salario_medio_mensal'])\n",
    "table = table.replace('X','')\n",
    "table = table.dropna()\n",
    "table = table[table[\"atividades\"].str.contains('Total') == False]\n",
    "table = table[table[\"faixa\"].str.contains('Total') == False]\n",
    "table.to_csv(f\"./landing_zone/unidades_locais/BR_cnae_faixas_2019.csv\",index=False,encoding='UTF-8')"
   ]
  },
  {
   "cell_type": "code",
   "execution_count": 30,
   "metadata": {},
   "outputs": [],
   "source": [
    "table = pd.read_excel(tabelas_onze[2],header=4,sheet_name=0,names=['atividades','faixa','unidades_locais','pessoal_ocp_total','pessoal_ocp_assal','pessoal_assal_medio','salarios_outras_rem','salario_medio_mensal_min','salario_medio_mensal'])\n",
    "table = table.replace('X','')\n",
    "table = table.dropna()\n",
    "table = table[table[\"atividades\"].str.contains('Total') == False]\n",
    "table = table[table[\"faixa\"].str.contains('Total') == False]\n",
    "table.to_csv(f\"./landing_zone/unidades_locais/BR_unid_local_faixas_2019.csv\",index=False,encoding='UTF-8')"
   ]
  },
  {
   "cell_type": "code",
   "execution_count": 31,
   "metadata": {},
   "outputs": [
    {
     "data": {
      "text/plain": [
       "['./files/companies_register/local_unities\\\\Tabela 12.1.xlsx',\n",
       " './files/companies_register/local_unities\\\\Tabela 12.xlsx']"
      ]
     },
     "execution_count": 31,
     "metadata": {},
     "output_type": "execute_result"
    }
   ],
   "source": [
    "tabelas_doze = companies_files[5:7]\n",
    "tabelas_doze"
   ]
  },
  {
   "cell_type": "code",
   "execution_count": 32,
   "metadata": {},
   "outputs": [],
   "source": [
    "# tabela 12.1\n",
    "table = pd.read_excel(tabelas_doze[0],header=5,sheet_name=0,names=['mun_capital','cnae','atividades','unidades_locais','pessoal_ocp_total','pessoal_ocp_assal','pessoal_assal_medio','salarios_outras_rem','salario_medio_mensal_min','salario_medio_mensal'])\n",
    "table = table.replace('X','')\n",
    "table = table.replace('-','')\n",
    "table = table[table[\"atividades\"].str.contains('Total') == False]\n",
    "table = table.dropna()\n",
    "table.to_csv(f\"./landing_zone/unidades_locais/BR_capitais_cnae_total_2019.csv\",index=False,encoding='UTF-8')\n",
    "\n",
    "# tabela 12\n",
    "table = pd.read_excel(tabelas_doze[1],header=5,sheet_name=0,names=['mun_capital','atividades','unidades_locais','pessoal_ocp_total','pessoal_ocp_assal','pessoal_assal_medio','salarios_outras_rem','salario_medio_mensal_min','salario_medio_mensal'])\n",
    "table = table.replace('X','')\n",
    "table = table.replace('-','')\n",
    "table = table.dropna()\n",
    "table = table[table[\"atividades\"].str.contains('Total') == False]\n",
    "table.to_csv(f\"./landing_zone/unidades_locais/BR_capitais_total_2019.csv\",index=False,encoding='UTF-8')"
   ]
  },
  {
   "cell_type": "code",
   "execution_count": 33,
   "metadata": {},
   "outputs": [],
   "source": [
    "# tabelas 13 e 14\n",
    "last_tables = companies_files[7:9]\n",
    "\n",
    "table = pd.read_excel(last_tables[0],header=5,sheet_name=0,names=['ufs','cidades','unidades_locais','pessoal_ocp_total','pessoal_ocp_assal','pessoal_assal_medio','salarios_outras_rem','salario_medio_mensal_min','salario_medio_mensal','numero_empresas'])\n",
    "table = table.replace('X','')\n",
    "table = table.replace('-','')\n",
    "table = table.dropna()\n",
    "table = table[table[\"cidades\"].str.contains('Total') == False]\n",
    "table.to_csv(f\"./landing_zone/unidades_locais/BR_unid_local_uf_2019.csv\",index=False,encoding='UTF-8')"
   ]
  },
  {
   "cell_type": "code",
   "execution_count": 37,
   "metadata": {},
   "outputs": [],
   "source": [
    "table = pd.read_excel(last_tables[1],header=4,sheet_name=0,names=['ufs','cidades_mais_cinquenta_mil','atividades','unidades_locais','pessoal_ocp_total','pessoal_ocp_assal','pessoal_assal_medio','salarios_outras_rem','salario_medio_mensal_min','salario_medio_mensal'])\n",
    "table = table.replace('X','')\n",
    "table = table.replace('-','')\n",
    "table = table.dropna()\n",
    "table = table[table[\"atividades\"].str.contains('Total') == False]\n",
    "table = table.replace(',','')\n",
    "table = table.replace('...','')\n",
    "table = table.fillna(0)\n",
    "table.to_csv(f\"./landing_zone/unidades_locais/BR_unid_local_uf_mun_grandes_2019.csv\",index=False,encoding='UTF-8')"
   ]
  }
 ],
 "metadata": {
  "kernelspec": {
   "display_name": "Python 3.10.0 64-bit",
   "language": "python",
   "name": "python3"
  },
  "language_info": {
   "codemirror_mode": {
    "name": "ipython",
    "version": 3
   },
   "file_extension": ".py",
   "mimetype": "text/x-python",
   "name": "python",
   "nbconvert_exporter": "python",
   "pygments_lexer": "ipython3",
   "version": "3.10.0"
  },
  "orig_nbformat": 4,
  "vscode": {
   "interpreter": {
    "hash": "39216e42228a84cf5c4d3ca4bd05763b46e516bef260b53a02fe722c670504d5"
   }
  }
 },
 "nbformat": 4,
 "nbformat_minor": 2
}
